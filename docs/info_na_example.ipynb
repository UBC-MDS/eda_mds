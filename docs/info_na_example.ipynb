{
    "cells": [
        {
            "cell_type": "markdown",
            "metadata": {},
            "source": [
                "# `info_na()` Vignette \n",
                "\n",
                "In this section, we will explore the functionality of `info_na()`, a function with in `eda_mds` that expands the behaviour of `pd.DataFrame.info()`. \n",
                "We will do so by beginning the Exploratory Data Analysis process using both functions, and compare the output and necessary steps to acquire the same information, motivating its use.\n",
                "\n",
                "The dataset we will use is `titanic.csv` from the `seaborn` vignette dataset, available here: \n",
                "`https://github.com/mwaskom/seaborn-data/blob/master/titanic.csv`"
            ]
        },
        {
            "cell_type": "code",
            "execution_count": 3,
            "metadata": {},
            "outputs": [],
            "source": [
                "import numpy as np\n",
                "import pandas as pd\n",
                "from eda_mds import info_na\n"
            ]
        },
        {
            "cell_type": "code",
            "execution_count": null,
            "metadata": {},
            "outputs": [],
            "source": [
                "df = pd.read_csv('https://raw.githubusercontent.com/mwaskom/seaborn-data/master/titanic.csv')"
            ]
        },
        {
            "cell_type": "markdown",
            "metadata": {},
            "source": [
                "## Pandas `info()`"
            ]
        },
        {
            "cell_type": "code",
            "execution_count": 6,
            "metadata": {},
            "outputs": [
                {
                    "name": "stdout",
                    "output_type": "stream",
                    "text": [
                        "<class 'pandas.core.frame.DataFrame'>\n",
                        "RangeIndex: 891 entries, 0 to 890\n",
                        "Data columns (total 15 columns):\n",
                        " #   Column       Non-Null Count  Dtype  \n",
                        "---  ------       --------------  -----  \n",
                        " 0   survived     891 non-null    int64  \n",
                        " 1   pclass       891 non-null    int64  \n",
                        " 2   sex          891 non-null    object \n",
                        " 3   age          714 non-null    float64\n",
                        " 4   sibsp        891 non-null    int64  \n",
                        " 5   parch        891 non-null    int64  \n",
                        " 6   fare         891 non-null    float64\n",
                        " 7   embarked     889 non-null    object \n",
                        " 8   class        891 non-null    object \n",
                        " 9   who          891 non-null    object \n",
                        " 10  adult_male   891 non-null    bool   \n",
                        " 11  deck         203 non-null    object \n",
                        " 12  embark_town  889 non-null    object \n",
                        " 13  alive        891 non-null    object \n",
                        " 14  alone        891 non-null    bool   \n",
                        "dtypes: bool(2), float64(2), int64(4), object(7)\n",
                        "memory usage: 92.4+ KB\n"
                    ]
                }
            ],
            "source": [
                "df.info()"
            ]
        },
        {
            "cell_type": "code",
            "execution_count": 5,
            "metadata": {},
            "outputs": [
                {
                    "name": "stdout",
                    "output_type": "stream",
                    "text": [
                        "\n",
                        "type: <class 'pandas.core.frame.DataFrame'>\n",
                        "shape: (891, 15)\n",
                        "memory usage: 398.1 KB\n",
                        "--------\n",
                        "columns:\n",
                        " #      column  null count  null %   dtype\n",
                        " 0    survived           0    0.00   int64\n",
                        " 1      pclass           0    0.00   int64\n",
                        " 2         sex           0    0.00  object\n",
                        " 3         age         177   19.87 float64\n",
                        " 4       sibsp           0    0.00   int64\n",
                        " 5       parch           0    0.00   int64\n",
                        " 6        fare           0    0.00 float64\n",
                        " 7    embarked           2    0.22  object\n",
                        " 8       class           0    0.00  object\n",
                        " 9         who           0    0.00  object\n",
                        "10  adult_male           0    0.00    bool\n",
                        "11        deck         688   77.22  object\n",
                        "12 embark_town           2    0.22  object\n",
                        "13       alive           0    0.00  object\n",
                        "14       alone           0    0.00    bool\n",
                        "-----\n",
                        "rows:\n",
                        "total rows            891.00\n",
                        "any null count        709.00\n",
                        "any null %             79.57\n",
                        "all null count          0.00\n",
                        "all null %              0.00\n",
                        "mean null count         0.98\n",
                        "std.dev null count      0.62\n",
                        "max null count          2.00\n",
                        "min null count          0.00\n",
                        "\n"
                    ]
                }
            ],
            "source": [
                "info_na(df)"
            ]
        },
        {
            "cell_type": "code",
            "execution_count": null,
            "metadata": {},
            "outputs": [],
            "source": []
        }
    ],
    "metadata": {
        "kernelspec": {
            "display_name": "Python 3",
            "language": "python",
            "name": "python3"
        },
        "language_info": {
            "codemirror_mode": {
                "name": "ipython",
                "version": 3
            },
            "file_extension": ".py",
            "mimetype": "text/x-python",
            "name": "python",
            "nbconvert_exporter": "python",
            "pygments_lexer": "ipython3",
            "version": "3.9.18"
        }
    },
    "nbformat": 4,
    "nbformat_minor": 4
}
