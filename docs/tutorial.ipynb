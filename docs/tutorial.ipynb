{
 "cells": [
  {
   "cell_type": "markdown",
   "source": [
    "## cat_var_stats"
   ],
   "metadata": {
    "collapsed": false
   },
   "id": "f7836d0d5e012734"
  },
  {
   "cell_type": "markdown",
   "source": [
    "This tutorial will go through how to best use cat_var_stats function in eda_mds package. For this tutorial let's use titanic dataset from seaborn-data.The dataset contains data on passengers in the Titanic and whether they survived the accident. cat_var_stats function is designed to take pandas dataframe as argument."
   ],
   "metadata": {
    "collapsed": false
   },
   "id": "41c6f066ec0a2478"
  },
  {
   "cell_type": "code",
   "outputs": [],
   "source": [
    "import pandas as pd\n",
    "from src.eda_mds.cat_var_stats import cat_var_stats\n",
    "df = pd.read_csv('https://raw.githubusercontent.com/mwaskom/seaborn-data/master/titanic.csv') # Let's read the dataframe"
   ],
   "metadata": {
    "collapsed": false,
    "ExecuteTime": {
     "end_time": "2024-01-27T02:59:08.196545Z",
     "start_time": "2024-01-27T02:59:08.026684Z"
    }
   },
   "id": "f368629b43d78f96",
   "execution_count": 4
  },
  {
   "cell_type": "markdown",
   "source": [
    "After importing the dataset let's run our cat_var_stats function"
   ],
   "metadata": {
    "collapsed": false
   },
   "id": "4309948822472c25"
  },
  {
   "cell_type": "code",
   "outputs": [
    {
     "name": "stdout",
     "output_type": "stream",
     "text": [
      "Column: sex\n",
      "Number of unique values: 2\n",
      "Frequency of values:\n",
      "male: 64.76%\n",
      "female: 35.24%\n",
      "------------------------------------\n",
      "\n",
      "\n",
      "Column: embarked\n",
      "Number of unique values: 3\n",
      "Frequency of values:\n",
      "S: 72.28%\n",
      "C: 18.86%\n",
      "Q: 8.64%\n",
      "nan: 0.22%\n",
      "------------------------------------\n",
      "\n",
      "\n",
      "Column: class\n",
      "Number of unique values: 3\n",
      "Frequency of values:\n",
      "Third: 55.11%\n",
      "First: 24.24%\n",
      "Second: 20.65%\n",
      "------------------------------------\n",
      "\n",
      "\n",
      "Column: who\n",
      "Number of unique values: 3\n",
      "Frequency of values:\n",
      "man: 60.27%\n",
      "woman: 30.42%\n",
      "child: 9.32%\n",
      "------------------------------------\n",
      "\n",
      "\n",
      "Column: adult_male\n",
      "Number of unique values: 2\n",
      "Frequency of values:\n",
      "True: 60.27%\n",
      "False: 39.73%\n",
      "------------------------------------\n",
      "\n",
      "\n",
      "Column: deck\n",
      "Number of unique values: 7\n",
      "Frequency of values:\n",
      "nan: 77.22%\n",
      "C: 6.62%\n",
      "E: 3.59%\n",
      "G: 0.45%\n",
      "D: 3.70%\n",
      "A: 1.68%\n",
      "B: 5.27%\n",
      "F: 1.46%\n",
      "Binning recommendations:\n",
      "G, A, F values can be binned into \"other\" category as they are lower than binning threshold\n",
      "------------------------------------\n",
      "\n",
      "\n",
      "Column: embark_town\n",
      "Number of unique values: 3\n",
      "Frequency of values:\n",
      "Southampton: 72.28%\n",
      "Cherbourg: 18.86%\n",
      "Queenstown: 8.64%\n",
      "nan: 0.22%\n",
      "------------------------------------\n",
      "\n",
      "\n",
      "Column: alive\n",
      "Number of unique values: 2\n",
      "Frequency of values:\n",
      "no: 61.62%\n",
      "yes: 38.38%\n",
      "------------------------------------\n",
      "\n",
      "\n",
      "Column: alone\n",
      "Number of unique values: 2\n",
      "Frequency of values:\n",
      "False: 39.73%\n",
      "True: 60.27%\n",
      "------------------------------------\n"
     ]
    }
   ],
   "source": [
    "cat_var_stats(df)"
   ],
   "metadata": {
    "collapsed": false,
    "ExecuteTime": {
     "end_time": "2024-01-27T02:59:08.210489Z",
     "start_time": "2024-01-27T02:59:08.200694Z"
    }
   },
   "id": "2dc188ae142d76e9",
   "execution_count": 5
  },
  {
   "cell_type": "markdown",
   "source": [
    "cat_var_stats iterates over each categorical column and gives out certain information. An example output for column 'sex' can be seen below\n",
    "```console \n",
    "Column: sex\n",
    "Number of unique values: 2\n",
    "Frequency of values:\n",
    "male: 64.76%\n",
    "female: 35.24%\n",
    "```\n",
    "It outputs the column name in question. The number of unique values and finally, the percentage of each unique value."
   ],
   "metadata": {
    "collapsed": false
   },
   "id": "52d4e0f4d4b0b9fd"
  },
  {
   "cell_type": "markdown",
   "source": [
    "For columns that has values that are underrepresented it also gives binning suggestions according to a threshold. This suggestion can be seen for the 'deck' column for the titanic dataset.\n",
    "```console \n",
    "Column: deck\n",
    "Number of unique values: 7\n",
    "Frequency of values:\n",
    "nan: 77.22%\n",
    "C: 6.62%\n",
    "E: 3.59%\n",
    "G: 0.45%\n",
    "D: 3.70%\n",
    "A: 1.68%\n",
    "B: 5.27%\n",
    "F: 1.46%\n",
    "Binning recommendations:\n",
    "G, A, F values can be binned into \"other\" category as they are lower than binning threshold\n",
    "```\n",
    "This output was generated according to the default value of 2 percent but a user can define its own threshold with using binning_threshold argument in the function. "
   ],
   "metadata": {
    "collapsed": false
   },
   "id": "745b91f9d608617a"
  },
  {
   "cell_type": "code",
   "outputs": [
    {
     "name": "stdout",
     "output_type": "stream",
     "text": [
      "Column: sex\n",
      "Number of unique values: 2\n",
      "Frequency of values:\n",
      "male: 64.76%\n",
      "female: 35.24%\n",
      "------------------------------------\n",
      "\n",
      "\n",
      "Column: embarked\n",
      "Number of unique values: 3\n",
      "Frequency of values:\n",
      "S: 72.28%\n",
      "C: 18.86%\n",
      "Q: 8.64%\n",
      "nan: 0.22%\n",
      "------------------------------------\n",
      "\n",
      "\n",
      "Column: class\n",
      "Number of unique values: 3\n",
      "Frequency of values:\n",
      "Third: 55.11%\n",
      "First: 24.24%\n",
      "Second: 20.65%\n",
      "------------------------------------\n",
      "\n",
      "\n",
      "Column: who\n",
      "Number of unique values: 3\n",
      "Frequency of values:\n",
      "man: 60.27%\n",
      "woman: 30.42%\n",
      "child: 9.32%\n",
      "------------------------------------\n",
      "\n",
      "\n",
      "Column: adult_male\n",
      "Number of unique values: 2\n",
      "Frequency of values:\n",
      "True: 60.27%\n",
      "False: 39.73%\n",
      "------------------------------------\n",
      "\n",
      "\n",
      "Column: deck\n",
      "Number of unique values: 7\n",
      "Frequency of values:\n",
      "nan: 77.22%\n",
      "C: 6.62%\n",
      "E: 3.59%\n",
      "G: 0.45%\n",
      "D: 3.70%\n",
      "A: 1.68%\n",
      "B: 5.27%\n",
      "F: 1.46%\n",
      "Binning recommendations:\n",
      "E, G, D, A, F values can be binned into \"other\" category as they are lower than binning threshold\n",
      "------------------------------------\n",
      "\n",
      "\n",
      "Column: embark_town\n",
      "Number of unique values: 3\n",
      "Frequency of values:\n",
      "Southampton: 72.28%\n",
      "Cherbourg: 18.86%\n",
      "Queenstown: 8.64%\n",
      "nan: 0.22%\n",
      "------------------------------------\n",
      "\n",
      "\n",
      "Column: alive\n",
      "Number of unique values: 2\n",
      "Frequency of values:\n",
      "no: 61.62%\n",
      "yes: 38.38%\n",
      "------------------------------------\n",
      "\n",
      "\n",
      "Column: alone\n",
      "Number of unique values: 2\n",
      "Frequency of values:\n",
      "False: 39.73%\n",
      "True: 60.27%\n",
      "------------------------------------\n"
     ]
    }
   ],
   "source": [
    "cat_var_stats(df, binning_threshold=4)  # Let's run the function again with a user defined threshold"
   ],
   "metadata": {
    "collapsed": false,
    "ExecuteTime": {
     "end_time": "2024-01-27T03:01:57.484716Z",
     "start_time": "2024-01-27T03:01:57.468907Z"
    }
   },
   "id": "8611cbf9e5881d35",
   "execution_count": 7
  },
  {
   "cell_type": "markdown",
   "source": [
    "According to our newly defined threshold value the binning recommendation included 'E' and 'D' too.\n",
    "```console \n",
    "Binning recommendations:\n",
    "E, G, D, A, F values can be binned into \"other\" category as they are lower than binning threshold\n",
    "```\n"
   ],
   "metadata": {
    "collapsed": false
   },
   "id": "12700c3a6ab4e99b"
  },
  {
   "cell_type": "code",
   "outputs": [],
   "source": [],
   "metadata": {
    "collapsed": false,
    "ExecuteTime": {
     "end_time": "2024-01-27T02:59:08.233825Z",
     "start_time": "2024-01-27T02:59:08.224798Z"
    }
   },
   "id": "fe3959df8537ba4",
   "execution_count": 6
  }
 ],
 "metadata": {
  "kernelspec": {
   "display_name": "Python 3",
   "language": "python",
   "name": "python3"
  },
  "language_info": {
   "codemirror_mode": {
    "name": "ipython",
    "version": 2
   },
   "file_extension": ".py",
   "mimetype": "text/x-python",
   "name": "python",
   "nbconvert_exporter": "python",
   "pygments_lexer": "ipython2",
   "version": "2.7.6"
  }
 },
 "nbformat": 4,
 "nbformat_minor": 5
}
